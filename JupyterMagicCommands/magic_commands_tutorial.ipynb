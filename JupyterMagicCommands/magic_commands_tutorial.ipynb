{
 "cells": [
  {
   "cell_type": "markdown",
   "metadata": {},
   "source": [
    "# Magic Commands Tutorial\n",
    "\n",
    "Python is the back-end process we run in jupyter. So if we do `print(\"Hello\")`this is sent to python which processes it and returns the salute!\n",
    "\n",
    "Magic commands are different. Thery are interpreted by Jupyter itself and either perform some action within Jupyter or are translated into something else that is sent to the Python back-end. They are distinguished from regular commands by starting w/ % or %% sign at the start. \n",
    "\n",
    "Note - the work w/ iPython kernels!\n",
    "\n",
    "\n",
    "Some sources of inspiration to this tutorial:\n",
    "* https://www.youtube.com/watch?v=-VEF5lO0djw\n",
    "* https://www.dataquest.io/blog/jupyter-notebook-tips-tricks-shortcuts/ \n",
    "* https://www.youtube.com/watch?v=YuWZNV4BkkY\n",
    "* https://ipython.readthedocs.io/en/stable/config/extensions/storemagic.html "
   ]
  },
  {
   "cell_type": "markdown",
   "metadata": {},
   "source": [
    "## % quickref & %magic\n",
    "\n",
    "Get information on all the magic commands available in IPython! "
   ]
  },
  {
   "cell_type": "code",
   "execution_count": 21,
   "metadata": {},
   "outputs": [],
   "source": [
    "# %quickref"
   ]
  },
  {
   "cell_type": "code",
   "execution_count": 22,
   "metadata": {},
   "outputs": [],
   "source": [
    "# %magic"
   ]
  },
  {
   "cell_type": "code",
   "execution_count": 23,
   "metadata": {},
   "outputs": [],
   "source": [
    "# %lsmagic"
   ]
  },
  {
   "cell_type": "markdown",
   "metadata": {
    "vscode": {
     "languageId": "plaintext"
    }
   },
   "source": [
    "## %who & %whos\n",
    "\n",
    "Shows all variables user defines (not global variables, and namespaces etc). "
   ]
  },
  {
   "cell_type": "code",
   "execution_count": 32,
   "metadata": {},
   "outputs": [],
   "source": [
    "# chunk of python code\n",
    "x = 100\n",
    "y = [10, 20, 30]\n",
    "\n",
    "\n",
    "def add_10(number):\n",
    "    return number + 10"
   ]
  },
  {
   "cell_type": "code",
   "execution_count": 33,
   "metadata": {},
   "outputs": [
    {
     "name": "stdout",
     "output_type": "stream",
     "text": [
      "add_10\t age\t first_name\t last_name\t x\t y\t \n"
     ]
    }
   ],
   "source": [
    "# get a list of all variables\n",
    "%who"
   ]
  },
  {
   "cell_type": "code",
   "execution_count": 34,
   "metadata": {},
   "outputs": [
    {
     "name": "stdout",
     "output_type": "stream",
     "text": [
      "y\t \n"
     ]
    }
   ],
   "source": [
    "# get only vairables which are list type\n",
    "%who list"
   ]
  },
  {
   "cell_type": "code",
   "execution_count": 35,
   "metadata": {},
   "outputs": [
    {
     "name": "stdout",
     "output_type": "stream",
     "text": [
      "first_name\t last_name\t \n"
     ]
    }
   ],
   "source": [
    "# get only variables which are string type\n",
    "%who str"
   ]
  },
  {
   "cell_type": "code",
   "execution_count": 14,
   "metadata": {},
   "outputs": [
    {
     "name": "stdout",
     "output_type": "stream",
     "text": [
      "['data', 'i', 'os', 'time']\n",
      "['i']\n"
     ]
    }
   ],
   "source": [
    "# get the list of variables back into python!\n",
    "# store all variables in a list\n",
    "variable_names = %who_ls\n",
    "print(variable_names)\n",
    "\n",
    "variable_names = %who_ls int\n",
    "print(variable_names)"
   ]
  },
  {
   "cell_type": "code",
   "execution_count": 37,
   "metadata": {},
   "outputs": [
    {
     "name": "stdout",
     "output_type": "stream",
     "text": [
      "Variable         Type        Data/Info\n",
      "--------------------------------------\n",
      "add_10           function    <function add_10 at 0x760c001125f0>\n",
      "age              int         30\n",
      "first_name       str         John\n",
      "last_name        str         Doe\n",
      "variable_names   list        n=2\n",
      "x                int         100\n",
      "y                list        n=3\n"
     ]
    }
   ],
   "source": [
    "# get a bit more information about the variables\n",
    "%whos"
   ]
  },
  {
   "cell_type": "code",
   "execution_count": 38,
   "metadata": {},
   "outputs": [
    {
     "name": "stdout",
     "output_type": "stream",
     "text": [
      "Variable   Type    Data/Info\n",
      "----------------------------\n",
      "age        int     30\n",
      "x          int     100\n"
     ]
    }
   ],
   "source": [
    "# get extra info about only integer variables\n",
    "%whos int"
   ]
  },
  {
   "cell_type": "code",
   "execution_count": 39,
   "metadata": {},
   "outputs": [
    {
     "name": "stdout",
     "output_type": "stream",
     "text": [
      "Variable   Type        Data/Info\n",
      "--------------------------------\n",
      "add_10     function    <function add_10 at 0x760c001125f0>\n"
     ]
    }
   ],
   "source": [
    "# get extra info on functions\n",
    "%whos function"
   ]
  },
  {
   "cell_type": "markdown",
   "metadata": {},
   "source": [
    "## %time & %timeit\n",
    "\n",
    "Get the time to run a function"
   ]
  },
  {
   "cell_type": "code",
   "execution_count": null,
   "metadata": {},
   "outputs": [],
   "source": [
    "# def a function\n",
    "def add_10(number):\n",
    "    return number + 10"
   ]
  },
  {
   "cell_type": "code",
   "execution_count": 40,
   "metadata": {},
   "outputs": [
    {
     "name": "stdout",
     "output_type": "stream",
     "text": [
      "CPU times: user 2 µs, sys: 0 ns, total: 2 µs\n",
      "Wall time: 3.81 µs\n"
     ]
    },
    {
     "data": {
      "text/plain": [
       "20"
      ]
     },
     "execution_count": 40,
     "metadata": {},
     "output_type": "execute_result"
    }
   ],
   "source": [
    "# check how much this line of code would take\n",
    "%time add_10(10)"
   ]
  },
  {
   "cell_type": "code",
   "execution_count": 41,
   "metadata": {},
   "outputs": [
    {
     "name": "stdout",
     "output_type": "stream",
     "text": [
      "CPU times: user 53 µs, sys: 8 µs, total: 61 µs\n",
      "Wall time: 62.5 µs\n"
     ]
    }
   ],
   "source": [
    "%%time\n",
    "# to check instead of a line a whole jupyter cell would take we would use double %\n",
    "\n",
    "for i in range(1000):\n",
    "    add_10(i)"
   ]
  },
  {
   "cell_type": "code",
   "execution_count": 42,
   "metadata": {},
   "outputs": [
    {
     "name": "stdout",
     "output_type": "stream",
     "text": [
      "39.9 ns ± 0.0412 ns per loop (mean ± std. dev. of 7 runs, 10,000,000 loops each)\n"
     ]
    }
   ],
   "source": [
    "# %timeit offers a more accurate way to measure the time taken by a code snippet\n",
    "# check how much time it would take to run by running it multiple times\n",
    "%timeit add_10(10) "
   ]
  },
  {
   "cell_type": "markdown",
   "metadata": {},
   "source": [
    "## %load\n",
    "\n",
    "Load content of a particular python file into my current cell! Neat way of loading script into current environment!"
   ]
  },
  {
   "cell_type": "code",
   "execution_count": 50,
   "metadata": {},
   "outputs": [
    {
     "data": {
      "text/plain": [
       "'\\n# load content of a file into current cell\\n%load load_me.py\\n\\n# this here is commented because it would overwrite the current cell ! ! !\\n# try coppying the content of the file into the current cell instead\\n'"
      ]
     },
     "execution_count": 50,
     "metadata": {},
     "output_type": "execute_result"
    }
   ],
   "source": [
    "\"\"\"\n",
    "# load content of a file into current cell\n",
    "%load load_me.py\n",
    "\n",
    "# this here is commented because it would overwrite the current cell ! ! !\n",
    "# try coppying the content of the file into the current cell instead\n",
    "\"\"\""
   ]
  },
  {
   "cell_type": "code",
   "execution_count": 52,
   "metadata": {},
   "outputs": [
    {
     "name": "stdout",
     "output_type": "stream",
     "text": [
      "0 * 2 = 0\n",
      "1 * 2 = 2\n",
      "2 * 2 = 4\n",
      "3 * 2 = 6\n",
      "4 * 2 = 8\n",
      "5 * 2 = 10\n",
      "6 * 2 = 12\n",
      "7 * 2 = 14\n",
      "8 * 2 = 16\n",
      "9 * 2 = 18\n"
     ]
    }
   ],
   "source": [
    "# %load load_me.py\n",
    "def multiply_by_2(x):\n",
    "    return x * 2\n",
    "\n",
    "\n",
    "for i in range(10):\n",
    "    print(f\"{i} * 2 = {multiply_by_2(i)}\")"
   ]
  },
  {
   "cell_type": "markdown",
   "metadata": {},
   "source": [
    "## %run \n",
    "\n",
    "Run a python script in the current environment & get the output's here! \n",
    "All variables defined there will be loaded ! "
   ]
  },
  {
   "cell_type": "code",
   "execution_count": 58,
   "metadata": {},
   "outputs": [
    {
     "name": "stdout",
     "output_type": "stream",
     "text": [
      "0 * 2 = 0\n",
      "1 * 2 = 2\n",
      "2 * 2 = 4\n",
      "3 * 2 = 6\n",
      "4 * 2 = 8\n",
      "5 * 2 = 10\n",
      "6 * 2 = 12\n",
      "7 * 2 = 14\n",
      "8 * 2 = 16\n",
      "9 * 2 = 18\n"
     ]
    }
   ],
   "source": [
    "# run the load_me.py file ! \n",
    "%run load_me.py "
   ]
  },
  {
   "cell_type": "code",
   "execution_count": 61,
   "metadata": {},
   "outputs": [
    {
     "name": "stdout",
     "output_type": "stream",
     "text": [
      "Variable         Type        Data/Info\n",
      "--------------------------------------\n",
      "add_10           function    <function add_10 at 0x760c001125f0>\n",
      "age              int         30\n",
      "first_name       str         John\n",
      "i                int         9\n",
      "last_name        str         Doe\n",
      "multiply_by_2    function    <function multiply_by_2 at 0x760c00112830>\n",
      "new_variable     int         1995\n",
      "variable_names   list        n=2\n",
      "x                int         100\n",
      "y                list        n=3\n"
     ]
    }
   ],
   "source": [
    "# check that we have the variables from the file loaded into our environment\n",
    "%whos "
   ]
  },
  {
   "cell_type": "markdown",
   "metadata": {},
   "source": [
    "## %writefile\n",
    "\n",
    "Write contents of cell to file! If it is already written it will overwrite!"
   ]
  },
  {
   "cell_type": "code",
   "execution_count": 63,
   "metadata": {},
   "outputs": [
    {
     "name": "stdout",
     "output_type": "stream",
     "text": [
      "Overwriting write_me.py\n"
     ]
    }
   ],
   "source": [
    "%%writefile write_me.py\n",
    "\n",
    "def take_away_one(x):\n",
    "    return x - 1\n",
    "\n",
    "for i in range(10):\n",
    "    print(f\"{i} - 1 = {take_away_one(i)}\")\n"
   ]
  },
  {
   "cell_type": "markdown",
   "metadata": {},
   "source": [
    "## %history command\n",
    "\n",
    "Even after you delete/re-write code it can help know what you did within this session! !"
   ]
  },
  {
   "cell_type": "code",
   "execution_count": 4,
   "metadata": {},
   "outputs": [
    {
     "name": "stdout",
     "output_type": "stream",
     "text": [
      "# load the extension\n",
      "%load_ext jupyternotify\n",
      "%%notify\n",
      "\n",
      "import time\n",
      "\n",
      "for i in range(2):\n",
      "    time.sleep(1)\n",
      "    print(f\"Finished {i} iteration\")\n",
      "%%notify\n",
      "\n",
      "import time\n",
      "\n",
      "for i in range(2):\n",
      "    time.sleep(1)\n",
      "    print(f\"Finished {i} iteration\")\n",
      "%history\n"
     ]
    }
   ],
   "source": [
    "%history"
   ]
  },
  {
   "cell_type": "code",
   "execution_count": 7,
   "metadata": {},
   "outputs": [
    {
     "name": "stderr",
     "output_type": "stream",
     "text": [
      "sh: 1: say: not found\n"
     ]
    },
    {
     "data": {
      "text/plain": [
       "32512"
      ]
     },
     "execution_count": 7,
     "metadata": {},
     "output_type": "execute_result"
    }
   ],
   "source": [
    "import os\n",
    "\n",
    "os.system('say \"your program has finished\"')"
   ]
  },
  {
   "cell_type": "markdown",
   "metadata": {},
   "source": [
    "## %notify\n",
    "\n",
    "Sends us a notification when a cell has completed! Does NOT work on VSCode\n"
   ]
  },
  {
   "cell_type": "code",
   "execution_count": 15,
   "metadata": {},
   "outputs": [],
   "source": [
    "# if not installed get the package\n",
    "#!pip install jupyternotify"
   ]
  },
  {
   "cell_type": "code",
   "execution_count": 1,
   "metadata": {},
   "outputs": [
    {
     "data": {
      "application/javascript": "if (!(\"Notification\" in window)) {\n    alert(\"This browser does not support desktop notifications, so the %%notify magic will not work.\");\n} else if (Notification.permission !== 'granted' && Notification.permission !== 'denied') {\n    Notification.requestPermission(function (permission) {\n        if(!('permission' in Notification)) {\n            Notification.permission = permission;\n        }\n    })\n}\n",
      "text/plain": [
       "<IPython.core.display.Javascript object>"
      ]
     },
     "metadata": {},
     "output_type": "display_data"
    }
   ],
   "source": [
    "# load the extension\n",
    "%load_ext jupyternotify"
   ]
  },
  {
   "cell_type": "code",
   "execution_count": 3,
   "metadata": {},
   "outputs": [
    {
     "name": "stdout",
     "output_type": "stream",
     "text": [
      "Finished 0 iteration\n",
      "Finished 1 iteration\n"
     ]
    },
    {
     "data": {
      "application/javascript": "$(document).ready(\n    function() {\n        function appendUniqueDiv(){\n            // append a div with our uuid so we can check that it's already\n            // been sent and avoid duplicates on page reload\n            var notifiedDiv = document.createElement(\"div\")\n            notifiedDiv.id = \"9c3a85b7-bcd8-464d-8a84-1f98c0c98126\"\n            element.append(notifiedDiv)\n        }\n\n        // only send notifications if the pageload is complete; this will\n        // help stop extra notifications when a saved notebook is loaded,\n        // which during testing gives us state \"interactive\", not \"complete\"\n        if (document.readyState === 'complete') {\n            // check for the div that signifies that the notification\n            // was already sent\n            if (document.getElementById(\"9c3a85b7-bcd8-464d-8a84-1f98c0c98126\") === null) {\n                var notificationPayload = {\"requireInteraction\": false, \"icon\": \"/static/base/images/favicon.ico\", \"body\": \"Cell execution has finished!\"};\n                if (Notification.permission !== 'denied') {\n                    if (Notification.permission !== 'granted') { \n                        Notification.requestPermission(function (permission) {\n                            if(!('permission' in Notification)) {\n                                Notification.permission = permission\n                            }\n                        })\n                    }\n                    if (Notification.permission === 'granted') {\n                    var notification = new Notification(\"Jupyter Notebook\", notificationPayload)\n                    appendUniqueDiv()\n                    notification.onclick = function () {\n                        window.focus();\n                        this.close();\n                        };\n                    } \n                }     \n            }\n        }\n    }\n)\n",
      "text/plain": [
       "<IPython.core.display.Javascript object>"
      ]
     },
     "metadata": {},
     "output_type": "display_data"
    }
   ],
   "source": [
    "%%notify\n",
    "\n",
    "import time\n",
    "\n",
    "for i in range(2):\n",
    "    time.sleep(1)\n",
    "    print(f\"Finished {i} iteration\")"
   ]
  },
  {
   "cell_type": "markdown",
   "metadata": {},
   "source": [
    "## %store\n",
    "\n",
    "Allows to pass variables between different notebooks or keep the variable even after restarting the kernel. "
   ]
  },
  {
   "cell_type": "code",
   "execution_count": 12,
   "metadata": {},
   "outputs": [
    {
     "name": "stdout",
     "output_type": "stream",
     "text": [
      "Stored 'data' (list)\n",
      "Stored variables and their in-db values:\n",
      "data             -> [1, 2, 3, 4, 5]\n",
      "data is not defined\n",
      "[1, 2, 3, 4, 5]\n"
     ]
    }
   ],
   "source": [
    "data = [1, 2, 3, 4, 5]\n",
    "\n",
    "# store the data w/ the magic variable\n",
    "%store data\n",
    "\n",
    "%store\n",
    "\n",
    "del data\n",
    "\n",
    "try:\n",
    "    print(data)\n",
    "except:\n",
    "    print(\"data is not defined\")\n",
    "\n",
    "# load the data back into the environment\n",
    "%store -r data\n",
    "\n",
    "print(data)"
   ]
  },
  {
   "cell_type": "code",
   "execution_count": 13,
   "metadata": {},
   "outputs": [
    {
     "name": "stdout",
     "output_type": "stream",
     "text": [
      "Stored variables and their in-db values:\n"
     ]
    }
   ],
   "source": [
    "# if we wanted to remove all stored variabels we would run:\n",
    "%store -z\n",
    "\n",
    "# show all stored variables\n",
    "%store"
   ]
  },
  {
   "cell_type": "markdown",
   "metadata": {},
   "source": [
    "## In & Out\n",
    "\n",
    "Get a list of all the actions you have done in the notebook with In & Out\n",
    "In will give us all the cell contents whilst Out will give us all the cell outputs !"
   ]
  },
  {
   "cell_type": "code",
   "execution_count": 1,
   "metadata": {},
   "outputs": [
    {
     "data": {
      "text/plain": [
       "['', 'In']"
      ]
     },
     "execution_count": 1,
     "metadata": {},
     "output_type": "execute_result"
    }
   ],
   "source": [
    "In"
   ]
  },
  {
   "cell_type": "code",
   "execution_count": 2,
   "metadata": {},
   "outputs": [
    {
     "data": {
      "text/plain": [
       "{1: ['', 'In', 'Out']}"
      ]
     },
     "execution_count": 2,
     "metadata": {},
     "output_type": "execute_result"
    }
   ],
   "source": [
    "Out"
   ]
  },
  {
   "cell_type": "markdown",
   "metadata": {},
   "source": [
    "## %reset\n",
    "\n",
    "If namespace has filled up with a lot of things, we can remove all the things we define in the namespace! "
   ]
  },
  {
   "cell_type": "code",
   "execution_count": 25,
   "metadata": {},
   "outputs": [
    {
     "name": "stdout",
     "output_type": "stream",
     "text": [
      "Nothing done.\n"
     ]
    }
   ],
   "source": [
    "# remove all\n",
    "%reset"
   ]
  },
  {
   "cell_type": "code",
   "execution_count": 26,
   "metadata": {},
   "outputs": [
    {
     "name": "stdout",
     "output_type": "stream",
     "text": [
      "Nothing done.\n"
     ]
    }
   ],
   "source": [
    "# remove all In & Out \n",
    "%reset in out"
   ]
  },
  {
   "cell_type": "code",
   "execution_count": 27,
   "metadata": {},
   "outputs": [
    {
     "name": "stdout",
     "output_type": "stream",
     "text": [
      "Variable     Type        Data/Info\n",
      "----------------------------------\n",
      "add_10       function    <function add_10 at 0x760c00110a60>\n",
      "age          int         30\n",
      "first_name   str         John\n",
      "last_name    str         Doe\n",
      "x            int         100\n",
      "y            list        n=3\n"
     ]
    }
   ],
   "source": [
    "first_name = \"John\"\n",
    "last_name = \"Doe\"\n",
    "age = 30\n",
    "%whos"
   ]
  },
  {
   "cell_type": "code",
   "execution_count": 28,
   "metadata": {},
   "outputs": [
    {
     "name": "stdout",
     "output_type": "stream",
     "text": [
      "Nothing done.\n"
     ]
    }
   ],
   "source": [
    "# remove selectively all variables which have name in them\n",
    "%reset_selective .*name"
   ]
  },
  {
   "cell_type": "code",
   "execution_count": 29,
   "metadata": {},
   "outputs": [
    {
     "name": "stdout",
     "output_type": "stream",
     "text": [
      "Variable     Type        Data/Info\n",
      "----------------------------------\n",
      "add_10       function    <function add_10 at 0x760c00110a60>\n",
      "age          int         30\n",
      "first_name   str         John\n",
      "last_name    str         Doe\n",
      "x            int         100\n",
      "y            list        n=3\n"
     ]
    }
   ],
   "source": [
    "# check variables now\n",
    "%whos"
   ]
  }
 ],
 "metadata": {
  "kernelspec": {
   "display_name": "disease_sig",
   "language": "python",
   "name": "python3"
  },
  "language_info": {
   "codemirror_mode": {
    "name": "ipython",
    "version": 3
   },
   "file_extension": ".py",
   "mimetype": "text/x-python",
   "name": "python",
   "nbconvert_exporter": "python",
   "pygments_lexer": "ipython3",
   "version": "3.10.13"
  }
 },
 "nbformat": 4,
 "nbformat_minor": 2
}
